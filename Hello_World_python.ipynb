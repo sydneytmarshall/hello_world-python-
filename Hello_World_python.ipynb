{
  "nbformat": 4,
  "nbformat_minor": 0,
  "metadata": {
    "colab": {
      "provenance": []
    },
    "kernelspec": {
      "name": "python3",
      "display_name": "Python 3"
    },
    "language_info": {
      "name": "python"
    }
  },
  "cells": [
    {
      "cell_type": "code",
      "execution_count": 1,
      "metadata": {
        "colab": {
          "base_uri": "https://localhost:8080/"
        },
        "id": "O2Kzpcqvdf0H",
        "outputId": "62f92c2f-b9ff-4060-e3d8-f977d96ba952"
      },
      "outputs": [
        {
          "output_type": "stream",
          "name": "stdout",
          "text": [
            "Hello, World!\n"
          ]
        }
      ],
      "source": [
        "print (\"Hello, World!\")\n"
      ]
    },
    {
      "cell_type": "code",
      "source": [
        "stg = \"Hello, World!\"\n"
      ],
      "metadata": {
        "id": "xL9pDdGkeTec"
      },
      "execution_count": 2,
      "outputs": []
    },
    {
      "cell_type": "code",
      "source": [
        "print (stg)"
      ],
      "metadata": {
        "colab": {
          "base_uri": "https://localhost:8080/"
        },
        "id": "csdBTv51eZ3V",
        "outputId": "052fc51c-bc5c-4d39-d326-6c609e699ed3"
      },
      "execution_count": 3,
      "outputs": [
        {
          "output_type": "stream",
          "name": "stdout",
          "text": [
            "Hello, World!\n"
          ]
        }
      ]
    }
  ]
}